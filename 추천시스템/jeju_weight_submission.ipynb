{
 "cells": [
  {
   "cell_type": "markdown",
   "metadata": {},
   "source": [
    "requirements\n",
    "\n",
    "lightgbm\n",
    "\n",
    "graphviz\n",
    "\n",
    "optuna\n",
    "\n",
    "sklearn\n",
    "\n",
    "pandas\n",
    "\n",
    "numpy"
   ]
  },
  {
   "cell_type": "code",
   "execution_count": 860,
   "metadata": {},
   "outputs": [],
   "source": [
    "import pandas as pd\n",
    "import numpy as np\n",
    "import warnings \n",
    "warnings.filterwarnings('ignore')\n",
    "df = pd.read_csv(\"jeju_최종_최종_최종_수정.csv\", encoding=\"cp949\")\n",
    "df.관광객수 = df.관광객수.str.replace(\",\",\"\")\n",
    "df.관광객수=df.관광객수.astype(np.float64)"
   ]
  },
  {
   "cell_type": "code",
   "execution_count": 861,
   "metadata": {},
   "outputs": [],
   "source": [
    "df = df[df['콘텐츠분류'].isna()==False]"
   ]
  },
  {
   "cell_type": "code",
   "execution_count": 862,
   "metadata": {},
   "outputs": [],
   "source": [
    "sdict = {'7.16':97078\n",
    ",'9.52':102602\n",
    ",'10.03':66450\n",
    ",'12.99':72620\n",
    ",'9.65':53046\n",
    ",'6.31':46806\n",
    ",'10.06':134909\n",
    ",'8.0':76552\n",
    ",'5.8':45741\n",
    ",'8.59':124784\n",
    ",'8.81':24338\n",
    ",'11.68':52153\n",
    ",'10.02':35949\n",
    ",'8.31':27173\n",
    ",'30.5':13898\n",
    ",'28.06':8713\n",
    ",'18.18':29299\n",
    ",'23.58':22615\n",
    ",'52.38':6807\n",
    ",'44.88':1803\n",
    ",'92.42':2315\n",
    ",'16.86':17443\n",
    ",'27.5':17567\n",
    ",'44.89':8760\n",
    ",'20.85':5908\n",
    ",'41.08':15109\n",
    ",'16.24':53298\n",
    ",'27.7':25161\n",
    ",'13.72':28138\n",
    ",'9.77':50250\n",
    ",'6.72':23031\n",
    ",'39.85':29676\n",
    ",'50.55':31292\n",
    ",'78.99':32473\n",
    ",'80.52':3901\n",
    ",'99.34':6485\n",
    ",'68.06':4406\n",
    ",'93.03':16134\n",
    ",'66.92':1576\n",
    ",'29.22':6322\n",
    ",'95.7':5432\n",
    ",'2.26':1143\n",
    ",'2.18':1434\n",
    "}\n",
    "\n",
    "df[\"seg면적\"]= df['ratio'].map(lambda x: sdict[f'{x}'])"
   ]
  },
  {
   "cell_type": "code",
   "execution_count": 863,
   "metadata": {},
   "outputs": [],
   "source": [
    "df =df[df['콘텐츠분류']!='축제/행사']"
   ]
  },
  {
   "cell_type": "code",
   "execution_count": 864,
   "metadata": {},
   "outputs": [
    {
     "name": "stdout",
     "output_type": "stream",
     "text": [
      "<class 'pandas.core.frame.DataFrame'>\n",
      "Index: 2336 entries, 0 to 2392\n",
      "Data columns (total 14 columns):\n",
      " #   Column     Non-Null Count  Dtype  \n",
      "---  ------     --------------  -----  \n",
      " 0   콘텐츠분류      2336 non-null   object \n",
      " 1   관광객수       2336 non-null   float64\n",
      " 2   관광지면적      2336 non-null   float64\n",
      " 3   ratio      2336 non-null   float64\n",
      " 4   카드사용금액     2336 non-null   float64\n",
      " 5   조회수        2336 non-null   float64\n",
      " 6   좋아요수       2336 non-null   float64\n",
      " 7   북마크수       2336 non-null   float64\n",
      " 8   소셜네트워크공유수  2336 non-null   float64\n",
      " 9   인기점수       2336 non-null   float64\n",
      " 10  사진공유수      2336 non-null   float64\n",
      " 11  관광지개수      2336 non-null   float64\n",
      " 12  평점         2336 non-null   float64\n",
      " 13  seg면적      2336 non-null   int64  \n",
      "dtypes: float64(12), int64(1), object(1)\n",
      "memory usage: 273.8+ KB\n"
     ]
    }
   ],
   "source": [
    "df.info()"
   ]
  },
  {
   "cell_type": "code",
   "execution_count": 865,
   "metadata": {},
   "outputs": [],
   "source": [
    "# df['ratio'] = df['ratio']*df['ratio']"
   ]
  },
  {
   "cell_type": "code",
   "execution_count": 866,
   "metadata": {},
   "outputs": [],
   "source": [
    "df['오버투어리즘'] = df['관광객수']/df['관광지면적']"
   ]
  },
  {
   "cell_type": "code",
   "execution_count": 869,
   "metadata": {},
   "outputs": [],
   "source": [
    "#feature_cols = ['관광지개수','ratio','카드사용금액','조회수','평점','좋아요수','리뷰수','북마크수','소셜네트워크공유수','인기점수','사진공유수','콘텐츠분류','유네스코유무']\n",
    "\n",
    "#feature_cols = ['관광지개수','ratio' ,'카드사용금액','조회수','북마크수','인기점수','사진공유수']\n",
    "#feature_cols = ['관광지개수','ratio','카드사용금액','조회수','인기점수','콘텐츠분류']\n",
    "\n",
    "#feature_cols = ['관광지개수','ratio','카드사용금액','조회수','평점','좋아요수','리뷰수','북마크수','소셜네트워크공유수','인기점수','사진공유수','콘텐츠분류','유네스코유무']\n",
    "feature_cols = ['관광지개수','ratio' ,'카드사용금액','조회수','좋아요수', '북마크수','인기점수','콘텐츠분류']\n",
    "\n",
    "X = df[feature_cols]\n",
    "\n",
    "y = df['관광객수']/df['관광지면적'] # 오버투어리즘 계산 "
   ]
  },
  {
   "cell_type": "code",
   "execution_count": 870,
   "metadata": {},
   "outputs": [
    {
     "name": "stdout",
     "output_type": "stream",
     "text": [
      "사분위수(Q1): 838.5726984470663\n",
      "사분위수(Q3): 10324.972602739726\n",
      "IQR: 9486.39990429266\n",
      "2177\n",
      "2177\n"
     ]
    }
   ],
   "source": [
    "\n",
    "# 사분위수 계산\n",
    "q1 = y.quantile(0.25)\n",
    "q3 = y.quantile(0.75)\n",
    "\n",
    "# IQR 계산\n",
    "iqr = q3 - q1\n",
    "\n",
    "# 아웃라이어의 경계 정의\n",
    "lower_bound = q1 - 1.5 * iqr\n",
    "upper_bound = q3 + 1.5 * iqr\n",
    "\n",
    "# 아닌거 찾기 (한번만 실행!!)\n",
    "X = X.loc[~(y > lower_bound) | (y < upper_bound)]\n",
    "y = y[~(y > lower_bound) | (y < upper_bound)]\n",
    "\n",
    "# 결과 출력\n",
    "print(\"사분위수(Q1):\", q1)\n",
    "print(\"사분위수(Q3):\", q3)\n",
    "print(\"IQR:\", iqr)\n",
    "print(len(y))\n",
    "print(len(X))"
   ]
  },
  {
   "cell_type": "code",
   "execution_count": 871,
   "metadata": {},
   "outputs": [],
   "source": [
    "# '콘텐츠분류' 열의 고유한 값과 그에 대응하는 숫자를 매핑한 딕셔너리\n",
    "content_mapping = {'숙박': 0, '음식점': 1, '관광지': 2, '테마여행': 3, '쇼핑': 4}\n",
    "\n",
    "# '콘텐츠분류' 열을 숫자로 매핑\n",
    "X['콘텐츠분류'] = X['콘텐츠분류'].map(content_mapping)\n"
   ]
  },
  {
   "cell_type": "code",
   "execution_count": 872,
   "metadata": {},
   "outputs": [
    {
     "data": {
      "text/html": [
       "<div>\n",
       "<style scoped>\n",
       "    .dataframe tbody tr th:only-of-type {\n",
       "        vertical-align: middle;\n",
       "    }\n",
       "\n",
       "    .dataframe tbody tr th {\n",
       "        vertical-align: top;\n",
       "    }\n",
       "\n",
       "    .dataframe thead th {\n",
       "        text-align: right;\n",
       "    }\n",
       "</style>\n",
       "<table border=\"1\" class=\"dataframe\">\n",
       "  <thead>\n",
       "    <tr style=\"text-align: right;\">\n",
       "      <th></th>\n",
       "      <th>관광지개수</th>\n",
       "      <th>ratio</th>\n",
       "      <th>카드사용금액</th>\n",
       "      <th>조회수</th>\n",
       "      <th>좋아요수</th>\n",
       "      <th>북마크수</th>\n",
       "      <th>인기점수</th>\n",
       "      <th>콘텐츠분류</th>\n",
       "    </tr>\n",
       "  </thead>\n",
       "  <tbody>\n",
       "    <tr>\n",
       "      <th>0</th>\n",
       "      <td>25.0</td>\n",
       "      <td>27.5</td>\n",
       "      <td>19.0</td>\n",
       "      <td>979.0</td>\n",
       "      <td>0.0</td>\n",
       "      <td>1.0</td>\n",
       "      <td>1958.0</td>\n",
       "      <td>0</td>\n",
       "    </tr>\n",
       "    <tr>\n",
       "      <th>1</th>\n",
       "      <td>25.0</td>\n",
       "      <td>27.5</td>\n",
       "      <td>19.0</td>\n",
       "      <td>1043.0</td>\n",
       "      <td>0.0</td>\n",
       "      <td>1.0</td>\n",
       "      <td>2086.0</td>\n",
       "      <td>0</td>\n",
       "    </tr>\n",
       "    <tr>\n",
       "      <th>2</th>\n",
       "      <td>25.0</td>\n",
       "      <td>27.5</td>\n",
       "      <td>19.0</td>\n",
       "      <td>2118.0</td>\n",
       "      <td>0.0</td>\n",
       "      <td>1.0</td>\n",
       "      <td>4236.0</td>\n",
       "      <td>1</td>\n",
       "    </tr>\n",
       "    <tr>\n",
       "      <th>3</th>\n",
       "      <td>25.0</td>\n",
       "      <td>27.5</td>\n",
       "      <td>19.0</td>\n",
       "      <td>7851.0</td>\n",
       "      <td>0.0</td>\n",
       "      <td>14.0</td>\n",
       "      <td>15707.0</td>\n",
       "      <td>2</td>\n",
       "    </tr>\n",
       "    <tr>\n",
       "      <th>4</th>\n",
       "      <td>25.0</td>\n",
       "      <td>27.5</td>\n",
       "      <td>19.0</td>\n",
       "      <td>5153.0</td>\n",
       "      <td>0.0</td>\n",
       "      <td>47.0</td>\n",
       "      <td>10321.0</td>\n",
       "      <td>1</td>\n",
       "    </tr>\n",
       "    <tr>\n",
       "      <th>...</th>\n",
       "      <td>...</td>\n",
       "      <td>...</td>\n",
       "      <td>...</td>\n",
       "      <td>...</td>\n",
       "      <td>...</td>\n",
       "      <td>...</td>\n",
       "      <td>...</td>\n",
       "      <td>...</td>\n",
       "    </tr>\n",
       "    <tr>\n",
       "      <th>2387</th>\n",
       "      <td>26.0</td>\n",
       "      <td>95.7</td>\n",
       "      <td>26.5</td>\n",
       "      <td>4431.0</td>\n",
       "      <td>1.0</td>\n",
       "      <td>32.0</td>\n",
       "      <td>8875.0</td>\n",
       "      <td>1</td>\n",
       "    </tr>\n",
       "    <tr>\n",
       "      <th>2388</th>\n",
       "      <td>26.0</td>\n",
       "      <td>95.7</td>\n",
       "      <td>26.5</td>\n",
       "      <td>3640.0</td>\n",
       "      <td>1.0</td>\n",
       "      <td>17.0</td>\n",
       "      <td>7288.0</td>\n",
       "      <td>1</td>\n",
       "    </tr>\n",
       "    <tr>\n",
       "      <th>2389</th>\n",
       "      <td>26.0</td>\n",
       "      <td>95.7</td>\n",
       "      <td>26.5</td>\n",
       "      <td>8418.0</td>\n",
       "      <td>2.0</td>\n",
       "      <td>4.0</td>\n",
       "      <td>16842.0</td>\n",
       "      <td>2</td>\n",
       "    </tr>\n",
       "    <tr>\n",
       "      <th>2390</th>\n",
       "      <td>26.0</td>\n",
       "      <td>95.7</td>\n",
       "      <td>26.5</td>\n",
       "      <td>1998.0</td>\n",
       "      <td>0.0</td>\n",
       "      <td>4.0</td>\n",
       "      <td>3996.0</td>\n",
       "      <td>0</td>\n",
       "    </tr>\n",
       "    <tr>\n",
       "      <th>2392</th>\n",
       "      <td>26.0</td>\n",
       "      <td>95.7</td>\n",
       "      <td>26.5</td>\n",
       "      <td>2312.0</td>\n",
       "      <td>0.0</td>\n",
       "      <td>4.0</td>\n",
       "      <td>4624.0</td>\n",
       "      <td>4</td>\n",
       "    </tr>\n",
       "  </tbody>\n",
       "</table>\n",
       "<p>2177 rows × 8 columns</p>\n",
       "</div>"
      ],
      "text/plain": [
       "      관광지개수  ratio  카드사용금액     조회수  좋아요수  북마크수     인기점수  콘텐츠분류\n",
       "0      25.0   27.5    19.0   979.0   0.0   1.0   1958.0      0\n",
       "1      25.0   27.5    19.0  1043.0   0.0   1.0   2086.0      0\n",
       "2      25.0   27.5    19.0  2118.0   0.0   1.0   4236.0      1\n",
       "3      25.0   27.5    19.0  7851.0   0.0  14.0  15707.0      2\n",
       "4      25.0   27.5    19.0  5153.0   0.0  47.0  10321.0      1\n",
       "...     ...    ...     ...     ...   ...   ...      ...    ...\n",
       "2387   26.0   95.7    26.5  4431.0   1.0  32.0   8875.0      1\n",
       "2388   26.0   95.7    26.5  3640.0   1.0  17.0   7288.0      1\n",
       "2389   26.0   95.7    26.5  8418.0   2.0   4.0  16842.0      2\n",
       "2390   26.0   95.7    26.5  1998.0   0.0   4.0   3996.0      0\n",
       "2392   26.0   95.7    26.5  2312.0   0.0   4.0   4624.0      4\n",
       "\n",
       "[2177 rows x 8 columns]"
      ]
     },
     "execution_count": 872,
     "metadata": {},
     "output_type": "execute_result"
    }
   ],
   "source": [
    "X"
   ]
  },
  {
   "cell_type": "code",
   "execution_count": 873,
   "metadata": {},
   "outputs": [
    {
     "name": "stdout",
     "output_type": "stream",
     "text": [
      "<class 'pandas.core.frame.DataFrame'>\n",
      "Index: 2177 entries, 0 to 2392\n",
      "Data columns (total 8 columns):\n",
      " #   Column  Non-Null Count  Dtype  \n",
      "---  ------  --------------  -----  \n",
      " 0   관광지개수   2177 non-null   float64\n",
      " 1   ratio   2177 non-null   float64\n",
      " 2   카드사용금액  2177 non-null   float64\n",
      " 3   조회수     2177 non-null   float64\n",
      " 4   좋아요수    2177 non-null   float64\n",
      " 5   북마크수    2177 non-null   float64\n",
      " 6   인기점수    2177 non-null   float64\n",
      " 7   콘텐츠분류   2177 non-null   int64  \n",
      "dtypes: float64(7), int64(1)\n",
      "memory usage: 153.1 KB\n"
     ]
    }
   ],
   "source": [
    "X.info()"
   ]
  },
  {
   "cell_type": "code",
   "execution_count": 874,
   "metadata": {},
   "outputs": [
    {
     "data": {
      "text/plain": [
       "count     2177.000000\n",
       "mean      5330.958321\n",
       "std       5604.736707\n",
       "min          0.184432\n",
       "25%        693.977448\n",
       "50%       3072.175641\n",
       "75%       9145.274014\n",
       "max      24511.317073\n",
       "dtype: float64"
      ]
     },
     "execution_count": 874,
     "metadata": {},
     "output_type": "execute_result"
    }
   ],
   "source": [
    "y.describe()"
   ]
  },
  {
   "cell_type": "markdown",
   "metadata": {},
   "source": [
    "# 모델학습"
   ]
  },
  {
   "cell_type": "code",
   "execution_count": 875,
   "metadata": {},
   "outputs": [],
   "source": [
    "import sklearn"
   ]
  },
  {
   "cell_type": "code",
   "execution_count": 876,
   "metadata": {},
   "outputs": [],
   "source": [
    "from sklearn.model_selection import train_test_split\n",
    "from sklearn.preprocessing import StandardScaler, MinMaxScaler\n",
    "from sklearn.metrics import mean_squared_error, r2_score, median_absolute_error\n",
    "import lightgbm as lgb\n",
    "\n",
    "\n",
    "ss = StandardScaler()\n",
    "X = ss.fit_transform(X)\n",
    "\n",
    "X_train, X_valid, y_train, y_valid = train_test_split(X, y, random_state=42)\n"
   ]
  },
  {
   "cell_type": "code",
   "execution_count": 877,
   "metadata": {},
   "outputs": [
    {
     "data": {
      "text/plain": [
       "array([[-1.55983869,  0.60489581, -0.87006548, ..., -0.20745895,\n",
       "        -0.23606125, -1.18207029],\n",
       "       [-1.55983869,  0.60489581, -0.87006548, ..., -0.20745895,\n",
       "        -0.23381679, -1.18207029],\n",
       "       [-1.55983869,  0.60489581, -0.87006548, ..., -0.20745895,\n",
       "        -0.196117  , -0.15723277],\n",
       "       ...,\n",
       "       [-1.55235707,  4.16256208, -0.80200935, ..., -0.19318904,\n",
       "         0.02492655,  0.86760476],\n",
       "       [-1.55235707,  4.16256208, -0.80200935, ..., -0.19318904,\n",
       "        -0.20032535, -1.18207029],\n",
       "       [-1.55235707,  4.16256208, -0.80200935, ..., -0.19318904,\n",
       "        -0.1893135 ,  2.91727981]])"
      ]
     },
     "execution_count": 877,
     "metadata": {},
     "output_type": "execute_result"
    }
   ],
   "source": [
    "X"
   ]
  },
  {
   "cell_type": "code",
   "execution_count": 878,
   "metadata": {},
   "outputs": [
    {
     "data": {
      "text/plain": [
       "0        545.625295\n",
       "1         65.203567\n",
       "2       1305.235366\n",
       "3         11.253743\n",
       "4        215.307192\n",
       "           ...     \n",
       "2387     479.489966\n",
       "2388     920.415296\n",
       "2389     157.037191\n",
       "2390       3.735858\n",
       "2392    1307.874499\n",
       "Length: 2177, dtype: float64"
      ]
     },
     "execution_count": 878,
     "metadata": {},
     "output_type": "execute_result"
    }
   ],
   "source": [
    "y"
   ]
  },
  {
   "cell_type": "code",
   "execution_count": 879,
   "metadata": {},
   "outputs": [],
   "source": [
    "import optuna\n",
    "\n",
    "def RMSE(y, y_pred):\n",
    "    rmse = mean_squared_error(y, y_pred) ** 0.5\n",
    "    return rmse\n",
    "def objective(trial):\n",
    "    param = {\n",
    "        'objective': 'regression', # 회귀\n",
    "        'verbose': -1,\n",
    "        'metric': 'mse', \n",
    "        'max_depth': trial.suggest_int('max_depth',3, 20),\n",
    "        'learning_rate': trial.suggest_loguniform(\"learning_rate\", 1e-6, 1e-2),\n",
    "        'n_estimators': trial.suggest_int('n_estimators', 5, 400),\n",
    "        'min_child_samples': trial.suggest_int('min_child_samples', 5, 20),\n",
    "        'subsample': trial.suggest_loguniform('subsample', 0.4, 1),\n",
    "    }\n",
    "\n",
    "    model = lgb.LGBMRegressor(**param)\n",
    "    lgb_model = model.fit(X_train, y_train)\n",
    "    rmse = mean_squared_error(model.predict(X_valid),y_valid)\n",
    "    return rmse"
   ]
  },
  {
   "cell_type": "code",
   "execution_count": 880,
   "metadata": {},
   "outputs": [
    {
     "name": "stderr",
     "output_type": "stream",
     "text": [
      "[I 2024-01-22 15:56:18,782] A new study created in memory with name: no-name-f1b4ec39-917c-44fb-833f-987879466685\n",
      "[I 2024-01-22 15:56:19,192] Trial 0 finished with value: 33849939.424670845 and parameters: {'max_depth': 9, 'learning_rate': 3.479576606646314e-06, 'n_estimators': 257, 'min_child_samples': 7, 'subsample': 0.44439156980044514}. Best is trial 0 with value: 33849939.424670845.\n",
      "[I 2024-01-22 15:56:19,392] Trial 1 finished with value: 33855124.55119349 and parameters: {'max_depth': 16, 'learning_rate': 2.0487897645439115e-06, 'n_estimators': 169, 'min_child_samples': 19, 'subsample': 0.7783109301670768}. Best is trial 0 with value: 33849939.424670845.\n",
      "[I 2024-01-22 15:56:19,730] Trial 2 finished with value: 31619566.155720666 and parameters: {'max_depth': 14, 'learning_rate': 0.0011323368012017723, 'n_estimators': 274, 'min_child_samples': 17, 'subsample': 0.702216780942703}. Best is trial 2 with value: 31619566.155720666.\n",
      "[I 2024-01-22 15:56:20,221] Trial 3 finished with value: 32799384.352101233 and parameters: {'max_depth': 6, 'learning_rate': 0.0002957513448286219, 'n_estimators': 397, 'min_child_samples': 9, 'subsample': 0.6938625701774509}. Best is trial 2 with value: 31619566.155720666.\n",
      "[I 2024-01-22 15:56:20,488] Trial 4 finished with value: 29735288.845518276 and parameters: {'max_depth': 5, 'learning_rate': 0.00610607326097558, 'n_estimators': 299, 'min_child_samples': 10, 'subsample': 0.41237019834214034}. Best is trial 4 with value: 29735288.845518276.\n",
      "[I 2024-01-22 15:56:20,693] Trial 5 finished with value: 33735820.364437975 and parameters: {'max_depth': 20, 'learning_rate': 7.600837331416498e-05, 'n_estimators': 158, 'min_child_samples': 19, 'subsample': 0.4330790107457754}. Best is trial 4 with value: 29735288.845518276.\n",
      "[I 2024-01-22 15:56:20,756] Trial 6 finished with value: 33787073.457363315 and parameters: {'max_depth': 13, 'learning_rate': 0.00014738331268124023, 'n_estimators': 50, 'min_child_samples': 7, 'subsample': 0.5839504351557252}. Best is trial 4 with value: 29735288.845518276.\n",
      "[I 2024-01-22 15:56:20,914] Trial 7 finished with value: 33446106.046913244 and parameters: {'max_depth': 13, 'learning_rate': 0.00032240209519851076, 'n_estimators': 133, 'min_child_samples': 12, 'subsample': 0.9296673509998382}. Best is trial 4 with value: 29735288.845518276.\n",
      "[I 2024-01-22 15:56:21,361] Trial 8 finished with value: 31037945.023381382 and parameters: {'max_depth': 9, 'learning_rate': 0.0012722266044673128, 'n_estimators': 364, 'min_child_samples': 19, 'subsample': 0.52353173130133}. Best is trial 4 with value: 29735288.845518276.\n",
      "[I 2024-01-22 15:56:21,628] Trial 9 finished with value: 33633803.225340664 and parameters: {'max_depth': 5, 'learning_rate': 7.101992626085693e-05, 'n_estimators': 331, 'min_child_samples': 17, 'subsample': 0.9411169683177862}. Best is trial 4 with value: 29735288.845518276.\n"
     ]
    }
   ],
   "source": [
    "# Create the study\n",
    "study = optuna.create_study(direction='minimize')\n",
    "study.optimize(objective, n_trials=10)"
   ]
  },
  {
   "cell_type": "code",
   "execution_count": null,
   "metadata": {},
   "outputs": [],
   "source": [
    "import numpy as np\n",
    "import graphviz\n",
    "#from sklearn.tree import DecisionTreeRegressor\n",
    "from sklearn import tree\n",
    "from lightgbm import LGBMRegressor\n",
    "\n",
    "# 결정트리 회귀 모델\n",
    "#tree_reg = DecisionTreeRegressor(max_depth=4, random_state=42)\n",
    "tree_reg = LGBMRegressor(**study.best_params)\n",
    "tree_reg.fit(X_train, y_train)"
   ]
  },
  {
   "cell_type": "code",
   "execution_count": null,
   "metadata": {},
   "outputs": [],
   "source": [
    "\n",
    "print(\"median_absolute_error:\",median_absolute_error(y_valid,tree_reg.predict(X_valid)), \"RMSE:\", (mean_squared_error(y_valid,tree_reg.predict(X_valid)))**(1/2) , \"r2_score:\", r2_score(y_valid,tree_reg.predict(X_valid)))"
   ]
  },
  {
   "cell_type": "code",
   "execution_count": 884,
   "metadata": {},
   "outputs": [
    {
     "data": {
      "text/html": [
       "<div>\n",
       "<style scoped>\n",
       "    .dataframe tbody tr th:only-of-type {\n",
       "        vertical-align: middle;\n",
       "    }\n",
       "\n",
       "    .dataframe tbody tr th {\n",
       "        vertical-align: top;\n",
       "    }\n",
       "\n",
       "    .dataframe thead th {\n",
       "        text-align: right;\n",
       "    }\n",
       "</style>\n",
       "<table border=\"1\" class=\"dataframe\">\n",
       "  <thead>\n",
       "    <tr style=\"text-align: right;\">\n",
       "      <th></th>\n",
       "      <th>관광지개수</th>\n",
       "      <th>ratio</th>\n",
       "      <th>카드사용금액</th>\n",
       "      <th>조회수</th>\n",
       "      <th>평점</th>\n",
       "      <th>인기점수</th>\n",
       "      <th>오버투어리즘</th>\n",
       "    </tr>\n",
       "  </thead>\n",
       "  <tbody>\n",
       "    <tr>\n",
       "      <th>mean</th>\n",
       "      <td>237.765839</td>\n",
       "      <td>15.674456</td>\n",
       "      <td>118.620120</td>\n",
       "      <td>7565.661815</td>\n",
       "      <td>1.96875</td>\n",
       "      <td>1.516357e+04</td>\n",
       "      <td>1.251860e+04</td>\n",
       "    </tr>\n",
       "    <tr>\n",
       "      <th>std</th>\n",
       "      <td>132.881972</td>\n",
       "      <td>18.771853</td>\n",
       "      <td>111.641775</td>\n",
       "      <td>27607.961911</td>\n",
       "      <td>2.29502</td>\n",
       "      <td>5.537344e+04</td>\n",
       "      <td>1.415000e+05</td>\n",
       "    </tr>\n",
       "    <tr>\n",
       "      <th>min</th>\n",
       "      <td>15.000000</td>\n",
       "      <td>2.180000</td>\n",
       "      <td>19.000000</td>\n",
       "      <td>0.000000</td>\n",
       "      <td>0.00000</td>\n",
       "      <td>0.000000e+00</td>\n",
       "      <td>1.844324e-01</td>\n",
       "    </tr>\n",
       "    <tr>\n",
       "      <th>25%</th>\n",
       "      <td>134.000000</td>\n",
       "      <td>7.160000</td>\n",
       "      <td>45.400000</td>\n",
       "      <td>1437.750000</td>\n",
       "      <td>0.00000</td>\n",
       "      <td>2.879000e+03</td>\n",
       "      <td>8.385727e+02</td>\n",
       "    </tr>\n",
       "    <tr>\n",
       "      <th>50%</th>\n",
       "      <td>270.000000</td>\n",
       "      <td>9.520000</td>\n",
       "      <td>99.400000</td>\n",
       "      <td>2427.000000</td>\n",
       "      <td>0.00000</td>\n",
       "      <td>4.859500e+03</td>\n",
       "      <td>3.720390e+03</td>\n",
       "    </tr>\n",
       "    <tr>\n",
       "      <th>75%</th>\n",
       "      <td>335.000000</td>\n",
       "      <td>12.990000</td>\n",
       "      <td>142.500000</td>\n",
       "      <td>4871.500000</td>\n",
       "      <td>5.00000</td>\n",
       "      <td>9.784750e+03</td>\n",
       "      <td>1.032497e+04</td>\n",
       "    </tr>\n",
       "    <tr>\n",
       "      <th>max</th>\n",
       "      <td>439.000000</td>\n",
       "      <td>99.340000</td>\n",
       "      <td>657.800000</td>\n",
       "      <td>682849.000000</td>\n",
       "      <td>5.00000</td>\n",
       "      <td>1.369236e+06</td>\n",
       "      <td>6.589419e+06</td>\n",
       "    </tr>\n",
       "  </tbody>\n",
       "</table>\n",
       "</div>"
      ],
      "text/plain": [
       "           관광지개수      ratio      카드사용금액            조회수       평점          인기점수  \\\n",
       "mean  237.765839  15.674456  118.620120    7565.661815  1.96875  1.516357e+04   \n",
       "std   132.881972  18.771853  111.641775   27607.961911  2.29502  5.537344e+04   \n",
       "min    15.000000   2.180000   19.000000       0.000000  0.00000  0.000000e+00   \n",
       "25%   134.000000   7.160000   45.400000    1437.750000  0.00000  2.879000e+03   \n",
       "50%   270.000000   9.520000   99.400000    2427.000000  0.00000  4.859500e+03   \n",
       "75%   335.000000  12.990000  142.500000    4871.500000  5.00000  9.784750e+03   \n",
       "max   439.000000  99.340000  657.800000  682849.000000  5.00000  1.369236e+06   \n",
       "\n",
       "            오버투어리즘  \n",
       "mean  1.251860e+04  \n",
       "std   1.415000e+05  \n",
       "min   1.844324e-01  \n",
       "25%   8.385727e+02  \n",
       "50%   3.720390e+03  \n",
       "75%   1.032497e+04  \n",
       "max   6.589419e+06  "
      ]
     },
     "execution_count": 884,
     "metadata": {},
     "output_type": "execute_result"
    }
   ],
   "source": [
    "df[['관광지개수','ratio','카드사용금액','조회수','평점','인기점수','콘텐츠분류','오버투어리즘']].describe().iloc[1:,:]\n",
    "\n",
    "#좋아요, 리뷰수, 북마크수, 소셜, 사진공유, 유네스코"
   ]
  },
  {
   "cell_type": "code",
   "execution_count": 885,
   "metadata": {},
   "outputs": [
    {
     "data": {
      "text/html": [
       "<div>\n",
       "<style scoped>\n",
       "    .dataframe tbody tr th:only-of-type {\n",
       "        vertical-align: middle;\n",
       "    }\n",
       "\n",
       "    .dataframe tbody tr th {\n",
       "        vertical-align: top;\n",
       "    }\n",
       "\n",
       "    .dataframe thead th {\n",
       "        text-align: right;\n",
       "    }\n",
       "</style>\n",
       "<table border=\"1\" class=\"dataframe\">\n",
       "  <thead>\n",
       "    <tr style=\"text-align: right;\">\n",
       "      <th></th>\n",
       "      <th>feature</th>\n",
       "      <th>importance</th>\n",
       "    </tr>\n",
       "  </thead>\n",
       "  <tbody>\n",
       "    <tr>\n",
       "      <th>0</th>\n",
       "      <td>관광지개수</td>\n",
       "      <td>968</td>\n",
       "    </tr>\n",
       "    <tr>\n",
       "      <th>1</th>\n",
       "      <td>ratio</td>\n",
       "      <td>550</td>\n",
       "    </tr>\n",
       "    <tr>\n",
       "      <th>2</th>\n",
       "      <td>카드사용금액</td>\n",
       "      <td>968</td>\n",
       "    </tr>\n",
       "    <tr>\n",
       "      <th>3</th>\n",
       "      <td>조회수</td>\n",
       "      <td>2427</td>\n",
       "    </tr>\n",
       "    <tr>\n",
       "      <th>4</th>\n",
       "      <td>좋아요수</td>\n",
       "      <td>499</td>\n",
       "    </tr>\n",
       "    <tr>\n",
       "      <th>5</th>\n",
       "      <td>북마크수</td>\n",
       "      <td>1542</td>\n",
       "    </tr>\n",
       "    <tr>\n",
       "      <th>6</th>\n",
       "      <td>인기점수</td>\n",
       "      <td>267</td>\n",
       "    </tr>\n",
       "    <tr>\n",
       "      <th>7</th>\n",
       "      <td>콘텐츠분류</td>\n",
       "      <td>278</td>\n",
       "    </tr>\n",
       "  </tbody>\n",
       "</table>\n",
       "</div>"
      ],
      "text/plain": [
       "  feature  importance\n",
       "0   관광지개수         968\n",
       "1   ratio         550\n",
       "2  카드사용금액         968\n",
       "3     조회수        2427\n",
       "4    좋아요수         499\n",
       "5    북마크수        1542\n",
       "6    인기점수         267\n",
       "7   콘텐츠분류         278"
      ]
     },
     "execution_count": 885,
     "metadata": {},
     "output_type": "execute_result"
    }
   ],
   "source": [
    "# 의사결정에 기여를 많이한 정도\n",
    "#feature_cols = ['관광지개수','ratio','카드사용금액','조회수','평점','좋아요수','리뷰수','북마크수','소셜네트워크공유수','인기점수','사진공유수','콘텐츠분류','유네스코유무']\n",
    "\n",
    "                    #읍       #읍         #읍        #읍\n",
    "#feature_cols = ['관광지개수','ratio','카드사용금액','조회수','북마크수','인기점수','사진공유수']\n",
    "\n",
    "\n",
    "pd.DataFrame({'feature':feature_cols, 'importance':tree_reg.feature_importances_})"
   ]
  }
 ],
 "metadata": {
  "kernelspec": {
   "display_name": "alpaco7",
   "language": "python",
   "name": "python3"
  },
  "language_info": {
   "codemirror_mode": {
    "name": "ipython",
    "version": 3
   },
   "file_extension": ".py",
   "mimetype": "text/x-python",
   "name": "python",
   "nbconvert_exporter": "python",
   "pygments_lexer": "ipython3",
   "version": "3.8.3"
  }
 },
 "nbformat": 4,
 "nbformat_minor": 2
}
