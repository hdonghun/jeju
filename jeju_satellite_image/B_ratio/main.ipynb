{
 "cells": [
  {
   "cell_type": "code",
   "execution_count": 9,
   "metadata": {},
   "outputs": [],
   "source": [
    "import cv2\n",
    "import numpy as np\n",
    "\n",
    "# 이미지를 불러오기\n",
    "image = cv2.imread('segmentation.jpg')\n",
    "\n",
    "# RGB 색상 값 설정\n",
    "target_color = (223, 121, 161)\n",
    "\n",
    "thr = 50\n",
    "\n",
    "# 이미지에서 특정 색상을 찾아내기\n",
    "lower_bound = np.array([target_color[2] - thr, target_color[1] - thr, target_color[0] - thr])\n",
    "upper_bound = np.array([target_color[2] + thr, target_color[1] + thr, target_color[0] + thr])\n",
    "mask = cv2.inRange(image, lower_bound, upper_bound)\n",
    "\n",
    "# 마스크를 이용하여 특정 색상 부분을 하얀색으로, 나머지 부분을 검은색으로 만들기\n",
    "result = cv2.bitwise_and(image, image, mask=mask)\n",
    "\n",
    "# 결과 이미지 저장\n",
    "cv2.imwrite('result.jpg', result)\n",
    "\n",
    "# 검은색이 아닌 부분을 모두 하얀색으로 만들기\n",
    "result[mask != 0] = (255, 255, 255)\n",
    "\n",
    "# 결과 이미지 저장\n",
    "cv2.imwrite('result_mask.jpg', result)\n"
   ]
  },
  {
   "cell_type": "code",
   "execution_count": 1,
   "metadata": {},
   "outputs": [
    {
     "name": "stdout",
     "output_type": "stream",
     "text": [
      "/home/alpaco/jeju/user/nsm/B_ratio/result.jpg의 크기는 304028바이트 입니다.\n"
     ]
    }
   ],
   "source": [
    "import os\n",
    "\n",
    "def jpg_size(filename):\n",
    "    if not filename.lower().endswith('.jpg'):\n",
    "        print(\"확장자가 .jpg인 파일이 아닙니다.\")\n",
    "        return\n",
    "\n",
    "    try:\n",
    "        size = os.path.getsize(filename)\n",
    "        print(f\"{filename}의 크기는 {size}바이트 입니다.\")\n",
    "    except FileNotFoundError:\n",
    "        print(f\"{filename}을 찾을 수 없습니다.\")\n",
    "\n",
    "\n",
    "\n",
    "# 함수 호출\n",
    "jpg_size('/home/alpaco/jeju/user/nsm/B_ratio/result.jpg')"
   ]
  },
  {
   "cell_type": "code",
   "execution_count": 2,
   "metadata": {},
   "outputs": [
    {
     "name": "stdout",
     "output_type": "stream",
     "text": [
      "이미지 높이: 2683\n",
      "이미지 너비: 1646\n",
      "이미지 채널: 3\n"
     ]
    }
   ],
   "source": [
    "from PIL import Image\n",
    "\n",
    "def get_image_dimensions(image_path):\n",
    "    try:\n",
    "        # 이미지 열기\n",
    "        image = Image.open(image_path)\n",
    "\n",
    "        # 이미지의 높이, 너비, 채널 얻기\n",
    "        height, width = image.size\n",
    "        channels = len(image.getbands())\n",
    "\n",
    "        # 결과 출력\n",
    "        print(f\"이미지 높이: {height}\")\n",
    "        print(f\"이미지 너비: {width}\")\n",
    "        print(f\"이미지 채널: {channels}\")\n",
    "    \n",
    "    except Exception as e:\n",
    "        print(f\"오류: {e}\")\n",
    "\n",
    "# 이미지 파일 경로\n",
    "이미지_파일 = \"/home/alpaco/jeju/user/nsm/B_ratio/result.jpg\"\n",
    "\n",
    "# 함수 호출\n",
    "get_image_dimensions(이미지_파일)"
   ]
  }
 ],
 "metadata": {
  "kernelspec": {
   "display_name": "alpaco7",
   "language": "python",
   "name": "python3"
  },
  "language_info": {
   "codemirror_mode": {
    "name": "ipython",
    "version": 3
   },
   "file_extension": ".py",
   "mimetype": "text/x-python",
   "name": "python",
   "nbconvert_exporter": "python",
   "pygments_lexer": "ipython3",
   "version": "3.6.13"
  }
 },
 "nbformat": 4,
 "nbformat_minor": 2
}
