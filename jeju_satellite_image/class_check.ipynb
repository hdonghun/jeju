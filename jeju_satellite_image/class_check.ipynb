{
 "cells": [
  {
   "cell_type": "code",
   "execution_count": 2,
   "metadata": {},
   "outputs": [],
   "source": [
    "img_path = '/home/alpaco/jeju/user/hdh/segmentation/dataset_jeju/result/20211128_1120/K3A_20200504045549_28203_00042683_L1R_br_visible.jpg'\n",
    "img_path1 ='/home/alpaco/jeju/user/hdh/segmentation/dataset_jeju/result/20211128_1120/K3A_20201124045546_31286_00047175_L1R_br_visible.jpg'"
   ]
  },
  {
   "cell_type": "code",
   "execution_count": 9,
   "metadata": {},
   "outputs": [],
   "source": [
    "import sys\n",
    "import numpy as np\n",
    "import cv2\n",
    "from PIL import Image"
   ]
  },
  {
   "cell_type": "code",
   "execution_count": 4,
   "metadata": {},
   "outputs": [
    {
     "name": "stdout",
     "output_type": "stream",
     "text": [
      "(1112, 1024)\n"
     ]
    }
   ],
   "source": [
    "a = Image.open(img_path1)\n",
    "print(a.size)"
   ]
  },
  {
   "cell_type": "code",
   "execution_count": 5,
   "metadata": {},
   "outputs": [
    {
     "data": {
      "text/plain": [
       "array([[[ 47,  75,  45],\n",
       "        [ 42,  73,  42],\n",
       "        [ 43,  77,  47],\n",
       "        ...,\n",
       "        [ 49,  78,  45],\n",
       "        [ 44,  73,  40],\n",
       "        [ 44,  75,  42]],\n",
       "\n",
       "       [[ 46,  74,  44],\n",
       "        [ 42,  73,  42],\n",
       "        [ 44,  75,  46],\n",
       "        ...,\n",
       "        [ 43,  72,  39],\n",
       "        [ 45,  74,  41],\n",
       "        [ 44,  75,  42]],\n",
       "\n",
       "       [[ 46,  72,  42],\n",
       "        [ 49,  77,  47],\n",
       "        [ 46,  77,  46],\n",
       "        ...,\n",
       "        [ 47,  76,  43],\n",
       "        [ 46,  75,  42],\n",
       "        [ 46,  77,  44]],\n",
       "\n",
       "       ...,\n",
       "\n",
       "       [[ 45,  74,  41],\n",
       "        [ 48,  77,  44],\n",
       "        [ 42,  71,  38],\n",
       "        ...,\n",
       "        [  7, 233, 238],\n",
       "        [  9, 232, 240],\n",
       "        [  9, 232, 240]],\n",
       "\n",
       "       [[ 46,  78,  43],\n",
       "        [ 43,  75,  40],\n",
       "        [ 43,  75,  40],\n",
       "        ...,\n",
       "        [ 11, 233, 238],\n",
       "        [  5, 233, 240],\n",
       "        [  3, 232, 241]],\n",
       "\n",
       "       [[ 43,  76,  41],\n",
       "        [ 42,  75,  40],\n",
       "        [ 48,  80,  45],\n",
       "        ...,\n",
       "        [ 11, 233, 238],\n",
       "        [  5, 232, 241],\n",
       "        [  2, 233, 241]]], dtype=uint8)"
      ]
     },
     "execution_count": 5,
     "metadata": {},
     "output_type": "execute_result"
    }
   ],
   "source": [
    "\n",
    "b = cv2.imread(img_path, cv2.IMREAD_COLOR)\n",
    "b"
   ]
  },
  {
   "cell_type": "code",
   "execution_count": 6,
   "metadata": {},
   "outputs": [
    {
     "name": "stdout",
     "output_type": "stream",
     "text": [
      "이미지의 색상 종류 수: 30314\n"
     ]
    }
   ],
   "source": [
    "unique_colors = len(np.unique(b.reshape(-1, 3), axis=0))\n",
    "print(\"이미지의 색상 종류 수:\", unique_colors)"
   ]
  },
  {
   "cell_type": "code",
   "execution_count": 58,
   "metadata": {},
   "outputs": [],
   "source": [
    "tiff_path = '/home/alpaco/jeju/user/hdh/segmentation/dataset_jeju/result/20211128_1120/K3A_20200504045549_28203_00042683_L1R_br.tif'\n",
    "tiff_path1 ='/home/alpaco/jeju/user/hdh/segmentation/dataset_jeju/result/20211128_1120/K3A_20201124045546_31286_00047175_L1R_br.tif'\n",
    "tiff_path2='/home/alpaco/jeju/user/hdh/segmentation/dataset_jeju/result/20211128_1120/K3A_20210405050036_33281_00024452_L1R_br.tif'"
   ]
  },
  {
   "cell_type": "code",
   "execution_count": 66,
   "metadata": {},
   "outputs": [
    {
     "name": "stdout",
     "output_type": "stream",
     "text": [
      "(1156, 1024)\n"
     ]
    }
   ],
   "source": [
    "a = Image.open(tiff_path2)\n",
    "print(a.size)"
   ]
  },
  {
   "cell_type": "code",
   "execution_count": 68,
   "metadata": {},
   "outputs": [
    {
     "data": {
      "text/plain": [
       "array([[[70, 70, 70],\n",
       "        [70, 70, 70],\n",
       "        [70, 70, 70],\n",
       "        ...,\n",
       "        [70, 70, 70],\n",
       "        [70, 70, 70],\n",
       "        [70, 70, 70]],\n",
       "\n",
       "       [[70, 70, 70],\n",
       "        [70, 70, 70],\n",
       "        [70, 70, 70],\n",
       "        ...,\n",
       "        [70, 70, 70],\n",
       "        [70, 70, 70],\n",
       "        [70, 70, 70]],\n",
       "\n",
       "       [[70, 70, 70],\n",
       "        [70, 70, 70],\n",
       "        [70, 70, 70],\n",
       "        ...,\n",
       "        [70, 70, 70],\n",
       "        [70, 70, 70],\n",
       "        [70, 70, 70]],\n",
       "\n",
       "       ...,\n",
       "\n",
       "       [[70, 70, 70],\n",
       "        [70, 70, 70],\n",
       "        [70, 70, 70],\n",
       "        ...,\n",
       "        [70, 70, 70],\n",
       "        [70, 70, 70],\n",
       "        [70, 70, 70]],\n",
       "\n",
       "       [[70, 70, 70],\n",
       "        [70, 70, 70],\n",
       "        [70, 70, 70],\n",
       "        ...,\n",
       "        [70, 70, 70],\n",
       "        [70, 70, 70],\n",
       "        [70, 70, 70]],\n",
       "\n",
       "       [[70, 70, 70],\n",
       "        [70, 70, 70],\n",
       "        [70, 70, 70],\n",
       "        ...,\n",
       "        [70, 70, 70],\n",
       "        [70, 70, 70],\n",
       "        [70, 70, 70]]], dtype=uint8)"
      ]
     },
     "execution_count": 68,
     "metadata": {},
     "output_type": "execute_result"
    }
   ],
   "source": [
    "\n",
    "b = cv2.imread(tiff_path2, cv2.IMREAD_UNCHANGED)\n",
    "b"
   ]
  },
  {
   "cell_type": "code",
   "execution_count": 69,
   "metadata": {},
   "outputs": [],
   "source": [
    "# array([[ 10,  10,  10], # 건물, 검정\n",
    "#        [ 30,  30,  30], # 도로, 제일 진한 회색\n",
    "#        [ 70,  70,  70], # 산림, 진한 회색\n",
    "#        [ 90,  90,  90], # 농경지, 연한 회색\n",
    "#        [100, 100, 100]], dtype=uint8) # 비대상지, 제일 연한 회색"
   ]
  },
  {
   "cell_type": "code",
   "execution_count": 70,
   "metadata": {},
   "outputs": [
    {
     "name": "stdout",
     "output_type": "stream",
     "text": [
      "\n",
      "변경 후 이미지:\n",
      " [[[70 70 70]\n",
      "  [70 70 70]\n",
      "  [70 70 70]\n",
      "  ...\n",
      "  [70 70 70]\n",
      "  [70 70 70]\n",
      "  [70 70 70]]\n",
      "\n",
      " [[70 70 70]\n",
      "  [70 70 70]\n",
      "  [70 70 70]\n",
      "  ...\n",
      "  [70 70 70]\n",
      "  [70 70 70]\n",
      "  [70 70 70]]\n",
      "\n",
      " [[70 70 70]\n",
      "  [70 70 70]\n",
      "  [70 70 70]\n",
      "  ...\n",
      "  [70 70 70]\n",
      "  [70 70 70]\n",
      "  [70 70 70]]\n",
      "\n",
      " ...\n",
      "\n",
      " [[70 70 70]\n",
      "  [70 70 70]\n",
      "  [70 70 70]\n",
      "  ...\n",
      "  [70 70 70]\n",
      "  [70 70 70]\n",
      "  [70 70 70]]\n",
      "\n",
      " [[70 70 70]\n",
      "  [70 70 70]\n",
      "  [70 70 70]\n",
      "  ...\n",
      "  [70 70 70]\n",
      "  [70 70 70]\n",
      "  [70 70 70]]\n",
      "\n",
      " [[70 70 70]\n",
      "  [70 70 70]\n",
      "  [70 70 70]\n",
      "  ...\n",
      "  [70 70 70]\n",
      "  [70 70 70]\n",
      "  [70 70 70]]]\n"
     ]
    }
   ],
   "source": [
    "import numpy as np\n",
    "\n",
    "# 건물, 도로 --> 검은색\n",
    "image_data = np.where(np.all(b == [30, 30, 30], axis=-1, keepdims=True), [10, 10, 10], b)\n",
    "# 산림 --> 진한회색\n",
    "\n",
    "# 비대상지, 농경지 --> 흰색\n",
    "image_data = np.where(np.all(image_data == [100, 100, 100], axis=-1, keepdims=True), [255, 255, 255], image_data)\n",
    "image_data = np.where(np.all(image_data == [90, 90, 90], axis=-1, keepdims=True), [255, 255, 255], image_data)\n",
    "# 변경 후 이미지 확인\n",
    "print(\"\\n변경 후 이미지:\\n\", image_data)\n"
   ]
  },
  {
   "cell_type": "code",
   "execution_count": 71,
   "metadata": {},
   "outputs": [
    {
     "name": "stdout",
     "output_type": "stream",
     "text": [
      "이미지의 색상 종류 수: 3\n"
     ]
    }
   ],
   "source": [
    "unique_colors = len(np.unique(image_data.reshape(-1, 3), axis=0))\n",
    "print(\"이미지의 색상 종류 수:\", unique_colors)"
   ]
  },
  {
   "cell_type": "code",
   "execution_count": 72,
   "metadata": {},
   "outputs": [
    {
     "data": {
      "text/plain": [
       "array([[ 10,  10,  10],\n",
       "       [ 70,  70,  70],\n",
       "       [255, 255, 255]])"
      ]
     },
     "execution_count": 72,
     "metadata": {},
     "output_type": "execute_result"
    }
   ],
   "source": [
    "unique_colors_list = np.unique(image_data.reshape(-1, 3), axis=0)\n",
    "unique_colors_list"
   ]
  },
  {
   "cell_type": "code",
   "execution_count": 73,
   "metadata": {},
   "outputs": [
    {
     "data": {
      "text/plain": [
       "True"
      ]
     },
     "execution_count": 73,
     "metadata": {},
     "output_type": "execute_result"
    }
   ],
   "source": [
    "cv2.imwrite(\"/home/alpaco/jeju/user/nsm/classchange.tif\", np.array(image_data))"
   ]
  },
  {
   "cell_type": "markdown",
   "metadata": {},
   "source": []
  },
  {
   "cell_type": "markdown",
   "metadata": {},
   "source": []
  },
  {
   "cell_type": "code",
   "execution_count": 68,
   "metadata": {},
   "outputs": [
    {
     "ename": "NameError",
     "evalue": "name 'array' is not defined",
     "output_type": "error",
     "traceback": [
      "\u001b[0;31m---------------------------------------------------------------------------\u001b[0m",
      "\u001b[0;31mNameError\u001b[0m                                 Traceback (most recent call last)",
      "\u001b[0;32m<ipython-input-68-c7464826403b>\u001b[0m in \u001b[0;36m<module>\u001b[0;34m\u001b[0m\n\u001b[0;32m----> 1\u001b[0;31m array([[ 10,  10,  10], # 건물, 검정\n\u001b[0m\u001b[1;32m      2\u001b[0m        \u001b[0;34m[\u001b[0m \u001b[0;36m30\u001b[0m\u001b[0;34m,\u001b[0m  \u001b[0;36m30\u001b[0m\u001b[0;34m,\u001b[0m  \u001b[0;36m30\u001b[0m\u001b[0;34m]\u001b[0m\u001b[0;34m,\u001b[0m \u001b[0;31m# 도로, 진회색\u001b[0m\u001b[0;34m\u001b[0m\u001b[0;34m\u001b[0m\u001b[0m\n\u001b[1;32m      3\u001b[0m        \u001b[0;34m[\u001b[0m \u001b[0;36m70\u001b[0m\u001b[0;34m,\u001b[0m  \u001b[0;36m70\u001b[0m\u001b[0;34m,\u001b[0m  \u001b[0;36m70\u001b[0m\u001b[0;34m]\u001b[0m\u001b[0;34m,\u001b[0m \u001b[0;31m# 산림\u001b[0m\u001b[0;34m\u001b[0m\u001b[0;34m\u001b[0m\u001b[0m\n\u001b[1;32m      4\u001b[0m        \u001b[0;34m[\u001b[0m \u001b[0;36m90\u001b[0m\u001b[0;34m,\u001b[0m  \u001b[0;36m90\u001b[0m\u001b[0;34m,\u001b[0m  \u001b[0;36m90\u001b[0m\u001b[0;34m]\u001b[0m\u001b[0;34m,\u001b[0m \u001b[0;31m# 농경지\u001b[0m\u001b[0;34m\u001b[0m\u001b[0;34m\u001b[0m\u001b[0m\n\u001b[1;32m      5\u001b[0m        [100, 100, 100]], dtype=uint8) # 비대상지\n",
      "\u001b[0;31mNameError\u001b[0m: name 'array' is not defined"
     ]
    }
   ],
   "source": [
    "array([[ 10,  10,  10], # 건물, 검정\n",
    "       [ 30,  30,  30], # 도로, 제일 진한 회색\n",
    "       [ 70,  70,  70], # 산림, 진한 회색\n",
    "       [ 90,  90,  90], # 농경지, 연한 회색\n",
    "       [100, 100, 100]], dtype=uint8) # 비대상지, 제일 연한 회색"
   ]
  }
 ],
 "metadata": {
  "kernelspec": {
   "display_name": "jejunsm",
   "language": "python",
   "name": "python3"
  },
  "language_info": {
   "codemirror_mode": {
    "name": "ipython",
    "version": 3
   },
   "file_extension": ".py",
   "mimetype": "text/x-python",
   "name": "python",
   "nbconvert_exporter": "python",
   "pygments_lexer": "ipython3",
   "version": "3.6.13"
  }
 },
 "nbformat": 4,
 "nbformat_minor": 2
}
